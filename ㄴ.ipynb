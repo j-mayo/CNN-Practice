{
  "nbformat": 4,
  "nbformat_minor": 0,
  "metadata": {
    "colab": {
      "name": "ㄴ",
      "provenance": [],
      "collapsed_sections": [],
      "mount_file_id": "1B9K1srknaMI6j0_IWdK7fXC9ihQMIHqX",
      "authorship_tag": "ABX9TyMhR0etsNbPu0WjIr2CxPrE",
      "include_colab_link": true
    },
    "kernelspec": {
      "name": "python3",
      "display_name": "Python 3"
    },
    "language_info": {
      "name": "python"
    }
  },
  "cells": [
    {
      "cell_type": "markdown",
      "metadata": {
        "id": "view-in-github",
        "colab_type": "text"
      },
      "source": [
        "<a href=\"https://colab.research.google.com/github/j-mayo/CNN-Practice/blob/main/%E3%84%B4.ipynb\" target=\"_parent\"><img src=\"https://colab.research.google.com/assets/colab-badge.svg\" alt=\"Open In Colab\"/></a>"
      ]
    },
    {
      "cell_type": "code",
      "metadata": {
        "id": "Gp6ckkp3Y6hJ"
      },
      "source": [
        "import os\n",
        "import glob\n",
        "import matplotlib.pyplot as plt\n",
        "from tensorflow import keras\n",
        "import numpy as np\n",
        "from PIL import Image\n",
        "\n",
        "c = glob.glob('/content/drive/MyDrive/images/2/*') # sample_data에 사진 붙여넣기\n",
        "cocktails = []\n",
        "for f in c:\n",
        "    cocktails.append(np.asarray(Image.open(f)))  # 이미지 넘파이로 변환할 때 asarray!"
      ],
      "execution_count": null,
      "outputs": []
    },
    {
      "cell_type": "code",
      "metadata": {
        "id": "i0_94eYRAGMV"
      },
      "source": [
        "n_cocktails = np.array(cocktails)"
      ],
      "execution_count": null,
      "outputs": []
    },
    {
      "cell_type": "code",
      "metadata": {
        "id": "C8MyFc-2AYu9",
        "colab": {
          "base_uri": "https://localhost:8080/"
        },
        "outputId": "ccef05a7-bc7b-4430-9808-73b420546ad7"
      },
      "source": [
        "n_cocktails.reshape(-1, 64, 64, 3)\n",
        "n_cocktails.shape"
      ],
      "execution_count": null,
      "outputs": [
        {
          "output_type": "execute_result",
          "data": {
            "text/plain": [
              "(319, 64, 64, 3)"
            ]
          },
          "metadata": {
            "tags": []
          },
          "execution_count": 14
        }
      ]
    },
    {
      "cell_type": "code",
      "metadata": {
        "colab": {
          "base_uri": "https://localhost:8080/"
        },
        "id": "kW2graIdQLbA",
        "outputId": "115b1061-4d1f-4835-9ee1-10d34bb7788f"
      },
      "source": [
        "p = glob.glob('/content/drive/MyDrive/images/3/*')\n",
        "pizzas = []\n",
        "for f in p:\n",
        "  pizzas.append(np.asarray(Image.open(f)))\n",
        "\n",
        "n_pizzas = np.array(pizzas)\n",
        "n_pizzas.reshape(-1, 64, 64, 3)\n",
        "n_pizzas.shape"
      ],
      "execution_count": null,
      "outputs": [
        {
          "output_type": "execute_result",
          "data": {
            "text/plain": [
              "(207, 64, 64, 3)"
            ]
          },
          "metadata": {
            "tags": []
          },
          "execution_count": 15
        }
      ]
    },
    {
      "cell_type": "code",
      "metadata": {
        "id": "SKWau2DSUZOA",
        "colab": {
          "base_uri": "https://localhost:8080/",
          "height": 71
        },
        "outputId": "9f6e8f25-d033-4982-eea3-946a0cb1073a"
      },
      "source": [
        "\"\"\"\n",
        "import os\n",
        "import glob\n",
        "from PIL import Image\n",
        "\n",
        "files = glob.glob('/content/drive/MyDrive/images/4(hamburger)/*') # 절대경로 입력\n",
        "\n",
        "for f in files:\n",
        "    try:\n",
        "        img = Image.open(f)\n",
        "        img_resize = img.resize((64, 64))\n",
        "        title, ext = os.path.splitext(f)\n",
        "        img_resize.save(title + '_resize64__' + ext)\n",
        "        os.unlink(f)\n",
        "    except OSError:\n",
        "        print(title)\n",
        "        os.unlink(f)\n",
        "        pass\n",
        "\"\"\"\n",
        "\n",
        "# 사진 사이즈 바꿔주는거..."
      ],
      "execution_count": null,
      "outputs": [
        {
          "output_type": "execute_result",
          "data": {
            "application/vnd.google.colaboratory.intrinsic+json": {
              "type": "string"
            },
            "text/plain": [
              "\"\\nimport os\\nimport glob\\nfrom PIL import Image\\n\\nfiles = glob.glob('/content/drive/MyDrive/images/4(hamburger)/*') # 절대경로 입력\\n\\nfor f in files:\\n    try:\\n        img = Image.open(f)\\n        img_resize = img.resize((64, 64))\\n        title, ext = os.path.splitext(f)\\n        img_resize.save(title + '_resize64__' + ext)\\n        os.unlink(f)\\n    except OSError:\\n        print(title)\\n        os.unlink(f)\\n        pass\\n\""
            ]
          },
          "metadata": {
            "tags": []
          },
          "execution_count": 5
        }
      ]
    },
    {
      "cell_type": "code",
      "metadata": {
        "colab": {
          "base_uri": "https://localhost:8080/"
        },
        "id": "5vVL9fLYlpzO",
        "outputId": "b4b8a642-79e0-497a-ae44-f4f0c13eb0fa"
      },
      "source": [
        "import os\n",
        "import glob\n",
        "from PIL import Image\n",
        "files = glob.glob('/content/sample_data/d/*')\n",
        "\n",
        "pred = []\n",
        "for f in files:\n",
        "    try:\n",
        "      img = Image.open(f)\n",
        "      img_resize = img.resize((64, 64))\n",
        "      pred.append(np.asarray(img_resize))\n",
        "      os.unlink(f)\n",
        "    except OSError:\n",
        "      print(1)\n",
        "      \n",
        "      pass\n",
        "n_pred = np.array(pred)\n",
        "n_pred.reshape(-1, 64, 64, 3)\n",
        "n_pred.shape"
      ],
      "execution_count": null,
      "outputs": [
        {
          "output_type": "execute_result",
          "data": {
            "text/plain": [
              "(5, 64, 64, 3)"
            ]
          },
          "metadata": {
            "tags": []
          },
          "execution_count": 51
        }
      ]
    },
    {
      "cell_type": "code",
      "metadata": {
        "colab": {
          "base_uri": "https://localhost:8080/"
        },
        "id": "ukGUrEZ9Xn5N",
        "outputId": "6912df82-a32f-4ea2-f7c0-a495cf047c3e"
      },
      "source": [
        "h = glob.glob('/content/drive/MyDrive/images/4(hamburger)/*')\n",
        "hamburgers = []\n",
        "for f in h:\n",
        "  hamburgers.append(np.asarray(Image.open(f)))\n",
        "\n",
        "n_hamburgers = np.array(hamburgers)\n",
        "n_hamburgers.reshape(-1, 64, 64, 3)\n",
        "n_hamburgers.shape"
      ],
      "execution_count": null,
      "outputs": [
        {
          "output_type": "execute_result",
          "data": {
            "text/plain": [
              "(242, 64, 64, 3)"
            ]
          },
          "metadata": {
            "tags": []
          },
          "execution_count": 16
        }
      ]
    },
    {
      "cell_type": "code",
      "metadata": {
        "colab": {
          "base_uri": "https://localhost:8080/"
        },
        "id": "0g_kuA_mX5kT",
        "outputId": "4a96ee55-38a8-4abf-a08f-76f735039f0c"
      },
      "source": [
        "target = np.array([0] * 319 + [1] * 207 + [2] * 242)\n",
        "input = np.array(cocktails + pizzas + hamburgers) / 255.0  # 0~1로 맞추기\n",
        "input.reshape(-1, 64, 64, 3)\n",
        "input.shape"
      ],
      "execution_count": null,
      "outputs": [
        {
          "output_type": "execute_result",
          "data": {
            "text/plain": [
              "(768, 64, 64, 3)"
            ]
          },
          "metadata": {
            "tags": []
          },
          "execution_count": 17
        }
      ]
    },
    {
      "cell_type": "code",
      "metadata": {
        "colab": {
          "base_uri": "https://localhost:8080/"
        },
        "id": "y-x7fHKhaBzv",
        "outputId": "ccb076b3-1e46-42c9-91dc-9d4f2e503d0e"
      },
      "source": [
        "# 합성곱 신경망 사용한 이미지 분류\n",
        "from tensorflow import keras\n",
        "from sklearn.model_selection import train_test_split\\\n",
        "# 데이터 나누기\n",
        "t_input, test_input, t_target, test_target = train_test_split(input, target, test_size=0.2, random_state=9)\n",
        "train_input, val_input, train_target, val_target = train_test_split(t_input, t_target, test_size=0.2)\n",
        "print(train_input.shape, test_input.shape, val_input.shape)"
      ],
      "execution_count": null,
      "outputs": [
        {
          "output_type": "stream",
          "text": [
            "(491, 64, 64, 3) (154, 64, 64, 3) (123, 64, 64, 3)\n"
          ],
          "name": "stdout"
        }
      ]
    },
    {
      "cell_type": "code",
      "metadata": {
        "id": "io3TSoUDbV9l"
      },
      "source": [
        "# 합성곱 신경망 만들기\n",
        "model = keras.Sequential()\n",
        "model.add(keras.layers.Conv2D(32, kernel_size=5, activation='relu', padding='same', input_shape=(64,64,3)))\n",
        "model.add(keras.layers.MaxPooling2D(2))\n",
        "model.add(keras.layers.Conv2D(64, kernel_size=5, activation='relu', padding='same'))\n",
        "model.add(keras.layers.MaxPooling2D(2))\n",
        "model.add(keras.layers.Flatten())\n",
        "model.add(keras.layers.Dense(150, activation='relu'))\n",
        "model.add(keras.layers.Dropout(0.4))\n",
        "model.add(keras.layers.Dense(3, activation='softmax'))"
      ],
      "execution_count": null,
      "outputs": []
    },
    {
      "cell_type": "code",
      "metadata": {
        "colab": {
          "base_uri": "https://localhost:8080/"
        },
        "id": "Zti1BuqOcmQT",
        "outputId": "2dbbc363-3f12-4446-b2f8-2ed97577cdf8"
      },
      "source": [
        "model.summary()"
      ],
      "execution_count": null,
      "outputs": [
        {
          "output_type": "stream",
          "text": [
            "Model: \"sequential_2\"\n",
            "_________________________________________________________________\n",
            "Layer (type)                 Output Shape              Param #   \n",
            "=================================================================\n",
            "conv2d_4 (Conv2D)            (None, 64, 64, 32)        2432      \n",
            "_________________________________________________________________\n",
            "max_pooling2d_4 (MaxPooling2 (None, 32, 32, 32)        0         \n",
            "_________________________________________________________________\n",
            "conv2d_5 (Conv2D)            (None, 32, 32, 64)        51264     \n",
            "_________________________________________________________________\n",
            "max_pooling2d_5 (MaxPooling2 (None, 16, 16, 64)        0         \n",
            "_________________________________________________________________\n",
            "flatten_2 (Flatten)          (None, 16384)             0         \n",
            "_________________________________________________________________\n",
            "dense_4 (Dense)              (None, 150)               2457750   \n",
            "_________________________________________________________________\n",
            "dropout_2 (Dropout)          (None, 150)               0         \n",
            "_________________________________________________________________\n",
            "dense_5 (Dense)              (None, 3)                 453       \n",
            "=================================================================\n",
            "Total params: 2,511,899\n",
            "Trainable params: 2,511,899\n",
            "Non-trainable params: 0\n",
            "_________________________________________________________________\n"
          ],
          "name": "stdout"
        }
      ]
    },
    {
      "cell_type": "code",
      "metadata": {
        "colab": {
          "base_uri": "https://localhost:8080/"
        },
        "id": "Sq2w_5E4dF3L",
        "outputId": "ad56c0bb-ca7b-4149-ffef-c8834e6de010"
      },
      "source": [
        "# 모델 컴파일\n",
        "model.compile(optimizer='adam', loss='sparse_categorical_crossentropy', metrics='accuracy')\n",
        "checkpoint_cb = keras.callbacks.ModelCheckpoint('best-cnn-model.h5')\n",
        "early_stopping_cb = keras.callbacks.EarlyStopping(patience=2, restore_best_weights=True)\n",
        "history = model.fit(train_input, train_target, epochs=20, validation_data=(val_input, val_target), callbacks=[checkpoint_cb, early_stopping_cb])"
      ],
      "execution_count": null,
      "outputs": [
        {
          "output_type": "stream",
          "text": [
            "Epoch 1/20\n",
            "16/16 [==============================] - 7s 411ms/step - loss: 1.2836 - accuracy: 0.3931 - val_loss: 1.0045 - val_accuracy: 0.3902\n",
            "Epoch 2/20\n",
            "16/16 [==============================] - 6s 398ms/step - loss: 0.8666 - accuracy: 0.5234 - val_loss: 0.8912 - val_accuracy: 0.5691\n",
            "Epoch 3/20\n",
            "16/16 [==============================] - 6s 397ms/step - loss: 0.7979 - accuracy: 0.6314 - val_loss: 0.9594 - val_accuracy: 0.5041\n",
            "Epoch 4/20\n",
            "16/16 [==============================] - 6s 399ms/step - loss: 0.7133 - accuracy: 0.6599 - val_loss: 0.7676 - val_accuracy: 0.6341\n",
            "Epoch 5/20\n",
            "16/16 [==============================] - 6s 399ms/step - loss: 0.6148 - accuracy: 0.7128 - val_loss: 0.7583 - val_accuracy: 0.6585\n",
            "Epoch 6/20\n",
            "16/16 [==============================] - 6s 402ms/step - loss: 0.5721 - accuracy: 0.7536 - val_loss: 0.7457 - val_accuracy: 0.6585\n",
            "Epoch 7/20\n",
            "16/16 [==============================] - 6s 402ms/step - loss: 0.4786 - accuracy: 0.8330 - val_loss: 0.8246 - val_accuracy: 0.6748\n",
            "Epoch 8/20\n",
            "16/16 [==============================] - 6s 404ms/step - loss: 0.3265 - accuracy: 0.8737 - val_loss: 0.7782 - val_accuracy: 0.6992\n"
          ],
          "name": "stdout"
        }
      ]
    },
    {
      "cell_type": "code",
      "metadata": {
        "colab": {
          "base_uri": "https://localhost:8080/",
          "height": 279
        },
        "id": "RljT1rjOeIPj",
        "outputId": "5e6edb20-9771-4269-dd0a-b2bc43808a57"
      },
      "source": [
        "# 손실 그래프를 그려보자\n",
        "import matplotlib.pyplot as plt\n",
        "plt.plot(history.history['loss'])\n",
        "plt.plot(history.history['val_loss'])\n",
        "plt.xlabel('epoch')\n",
        "plt.ylabel('loss')\n",
        "plt.legend(['train', 'val'])\n",
        "plt.show()"
      ],
      "execution_count": null,
      "outputs": [
        {
          "output_type": "display_data",
          "data": {
            "image/png": "[encoded data removed]",
            "text/plain": [
              "<Figure size 432x288 with 1 Axes>"
            ]
          },
          "metadata": {
            "tags": [],
            "needs_background": "light"
          }
        }
      ]
    },
    {
      "cell_type": "code",
      "metadata": {
        "colab": {
          "base_uri": "https://localhost:8080/"
        },
        "id": "_5VlVzmPegVd",
        "outputId": "5d89aea7-32ac-47c8-ac0f-34f16b0bd1ff"
      },
      "source": [
        "# 모델을 평가해 보자\n",
        "model.evaluate(val_input, val_target)"
      ],
      "execution_count": null,
      "outputs": [
        {
          "output_type": "stream",
          "text": [
            "4/4 [==============================] - 0s 103ms/step - loss: 0.7457 - accuracy: 0.6585\n"
          ],
          "name": "stdout"
        },
        {
          "output_type": "execute_result",
          "data": {
            "text/plain": [
              "[0.7456749677658081, 0.6585366129875183]"
            ]
          },
          "metadata": {
            "tags": []
          },
          "execution_count": 43
        }
      ]
    },
    {
      "cell_type": "code",
      "metadata": {
        "colab": {
          "base_uri": "https://localhost:8080/"
        },
        "id": "R579iEdLev32",
        "outputId": "3d23fd5e-3cdf-43f7-8e53-8142af2b5d30"
      },
      "source": [
        "model.evaluate(test_input, test_target)"
      ],
      "execution_count": null,
      "outputs": [
        {
          "output_type": "stream",
          "text": [
            "5/5 [==============================] - 1s 103ms/step - loss: 0.6300 - accuracy: 0.7403\n"
          ],
          "name": "stdout"
        },
        {
          "output_type": "execute_result",
          "data": {
            "text/plain": [
              "[0.6300199627876282, 0.7402597665786743]"
            ]
          },
          "metadata": {
            "tags": []
          },
          "execution_count": 44
        }
      ]
    },
    {
      "cell_type": "code",
      "metadata": {
        "id": "_r9P-lUucF6D"
      },
      "source": [
        "model.load_weights('best-cnn-model_0611_83.5_79.6_83.1.h5')"
      ],
      "execution_count": null,
      "outputs": []
    },
    {
      "cell_type": "code",
      "metadata": {
        "colab": {
          "base_uri": "https://localhost:8080/",
          "height": 686
        },
        "id": "dYCbpssUlgEg",
        "outputId": "f5d1cd57-4ef8-45b2-c008-a333253e1881"
      },
      "source": [
        "print(model.predict(n_pred[0:5]))\n",
        "fig, axs = plt.subplots(1, 10, figsize=(10, 10))\n",
        "for i in range(5):\n",
        "  axs[i].imshow(n_pred[i].reshape(64, 64, 3), cmap='gray_r')\n",
        "  axs[i].axis('off')\n",
        "#dh"
      ],
      "execution_count": null,
      "outputs": [
        {
          "output_type": "stream",
          "text": [
            "[[1. 0. 0.]\n",
            " [0. 1. 0.]\n",
            " [0. 0. 1.]\n",
            " [1. 0. 0.]\n",
            " [1. 0. 0.]]\n"
          ],
          "name": "stdout"
        },
        {
          "output_type": "display_data",
          "data": {
            "image/png": "[encoded data removed]",
            "text/plain": [
              "<Figure size 720x720 with 10 Axes>"
            ]
          },
          "metadata": {
            "tags": [],
            "needs_background": "light"
          }
        }
      ]
    }
  ]
}
